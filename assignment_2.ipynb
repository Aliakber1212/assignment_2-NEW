{
 "cells": [
  {
   "cell_type": "markdown",
   "metadata": {},
   "source": [
    "# Assignment 2\n",
    "Instructions\n",
    "Complete all the exercises below. Each section corresponds to the concepts covered in class. Write your code in the designated cells and test your solutions."
   ]
  },
  {
   "cell_type": "code",
   "execution_count": null,
   "metadata": {},
   "outputs": [],
   "source": []
  },
  {
   "cell_type": "markdown",
   "metadata": {},
   "source": [
    "Exercise 1: Shopping List Calculator <br>\n",
    "Topics Covered: Lists, Input, Arithmetic Operators, Strings, Print, Type Casting\n",
    "\n",
    "Task:\n",
    "\n",
    "Write a program that:\n",
    "\n",
    "- Asks the user to input the names and prices of 3 items (names as strings, prices as strings converted to floats using type casting).\n",
    "- Stores these in a list of sublists, e.g., [[\"apple\", 0.5], [\"bread\", 1.2], [\"milk\", 2.0]].\n",
    "- Calculates the total cost by directly accessing list elements (e.g., list[0][1]) with arithmetic operators.\n",
    "- Prints each item and its price (e.g., \"Item: apple - Price: $0.50\") and the total cost in a formatted way using the print() function.\n",
    "\n",
    "Bonus Challenge:\n",
    "Ask the user for a tax rate (e.g., 5%) as input, convert it to a float, and add the tax amount to the total (tax = total * (rate / 100))."
   ]
  },
  {
   "cell_type": "code",
   "execution_count": null,
   "metadata": {},
   "outputs": [],
   "source": [
    "item1 = input(\"Pencil: \")\n",
    "price1 = float(input(\"50: \"))\n",
    "\n",
    "item2 = input(\"Pen: \")\n",
    "price2 = float(input(\"100: \"))\n",
    "\n",
    "item3 = input(\"Calculator: \")\n",
    "price3 = float(input(\"500: \"))\n",
    "\n",
    "shopping_list = [\n",
    "    [item1, price1],\n",
    "    [item2, price2],\n",
    "    [item3, price3]\n",
    "]\n",
    "\n",
    "total = price1 + price2 + price3\n",
    "\n",
    "print(\"\\nAapki Shopping List:\")\n",
    "print(f\"{item1} - Rs. {price1}\")\n",
    "print(f\"{item2} - Rs. {price2}\")\n",
    "print(f\"{item3} - Rs. {price3}\")\n",
    "print(f\"Total: Rs. {total}\")\n",
    "\n",
    "\n",
    "tax_rate = float(input(\"4%: \"))\n",
    "tax = total * (tax_rate / 100)\n",
    "final_total = total + tax\n",
    "\n",
    "print(f\"Tax: Rs. {tax}\")\n",
    "print(f\"Total with Tax: Rs. {final_total}\")"
   ]
  },
  {
   "cell_type": "markdown",
   "metadata": {},
   "source": [
    "Exercise 2: Student Grade Manager <br>\n",
    "Topics Covered: Lists, List Methods, Indexing, Input, Type Casting, Variables, Print\n",
    "\n",
    "Task:\n",
    "\n",
    "Write a program that:\n",
    "\n",
    "- Creates a list called grades with exactly 3 predefined scores (e.g., [85.5, 90.0, 78.5]).\n",
    "- Asks the user to input 1 additional score (as a string, converted to a float) and adds it to the list using the append() method.\n",
    "- Uses indexing to print the first score and the last score.\n",
    "- Calculates the average of the 4 scores by adding them with arithmetic operators and dividing by 4.\n",
    "- Uses the sort() method to sort the list and prints the sorted list.\n",
    "\n",
    "Bonus Challenge:\n",
    "Use the insert() method to add a bonus score of 5.0 at the start of the list and print the updated list."
   ]
  },
  {
   "cell_type": "code",
   "execution_count": null,
   "metadata": {},
   "outputs": [],
   "source": [
    "grades = [85.5, 90.0, 78.5]\n",
    "new_score = float(input(\"Enter one more score: \"))\n",
    "grades.append(new_score)\n",
    "print(\"First score:\", grades[0])\n",
    "print(\"Last score:\", grades[-1])\n",
    "total = grades[0] + grades[1] + grades[2] + grades[3]\n",
    "average = total / 4\n",
    "print(\"Average score:\", average)\n",
    "grades.sort()\n",
    "print(\"Sorted grades:\", grades)\n",
    "grades.insert(0, 5.0)\n",
    "print(\"Final grades with bonus:\", grades)"
   ]
  },
  {
   "cell_type": "code",
   "execution_count": null,
   "metadata": {},
   "outputs": [],
   "source": []
  },
  {
   "cell_type": "markdown",
   "metadata": {},
   "source": [
    "Exercise 3: Word Slicer <br>\n",
    "Topics Covered: Strings, Lists, Slicing, Indexing, Input, Print, Datatypes\n",
    "\n",
    "Task:\n",
    "\n",
    "Write a program that:\n",
    "\n",
    "- Asks the user to input a sentence with at least 4 words (e.g., \"I love to code\").\n",
    "- Converts the sentence into a list of words using the split() method.\n",
    "- Uses slicing to print:\n",
    "- The first 2 words.\n",
    "- The last 2 words.\n",
    "- Uses indexing to print the third word.\n",
    "- Prints the total number of words using len() and the datatype of the list using type().\n",
    "\n",
    "Bonus Challenge:\n",
    "Create a new string by concatenating the first and last words from the list (e.g., \"I code\") and print it."
   ]
  },
  {
   "cell_type": "code",
   "execution_count": null,
   "metadata": {},
   "outputs": [],
   "source": [
    "sentence = input(\"Enter a sentence with at least 4 words: \")\n",
    "words = sentence.split()\n",
    "print(\"First 2 words:\", words[:2])\n",
    "print(\"Last 2 words:\", words[-2:])\n",
    "print(\"Third word:\", words[2])\n",
    "print(\"Total words:\", len(words))\n",
    "print(\"Data type of words:\", type(words))\n",
    "combined = words[0] + \" \" + words[-1]\n",
    "print(\"First + Last word:\", combined)"
   ]
  },
  {
   "cell_type": "markdown",
   "metadata": {},
   "source": [
    "Exercise 4: Name Analyzer <br>\n",
    "Topics Covered: Strings, Lists, Slicing, Indexing, Input, Print, List Methods\n",
    "\n",
    "Task:\n",
    "\n",
    "Write a program that:\n",
    "\n",
    "- Asks the user to input a full name with exactly 3 parts (e.g., \"John Adam Smith\").\n",
    "- Splits the name into a list of individual names using split().\n",
    "- Uses indexing to print the first name and last name.\n",
    "- Uses slicing to print the middle name.\n",
    "- Creates a new list with the lengths of each name (e.g., [len(names[0])]) and prints it.\n",
    "- Calculates and prints the total number of characters by adding the lengths.\n",
    "\n",
    "Bonus Challenge:\n",
    "Use the pop() method to remove the middle name and print the updated list (e.g., [\"John\", \"Smith\"])."
   ]
  },
  {
   "cell_type": "code",
   "execution_count": null,
   "metadata": {},
   "outputs": [],
   "source": [
    "full_name = input(\"Enter your full name (3 parts, e.g., John Adam Smith): \")\n",
    "names = full_name.split()\n",
    "print(\"First name:\", names[0])\n",
    "print(\"Last name:\", names[2])\n",
    "print(\"Middle name:\", names[1:2])\n",
    "lengths = [len(names[0]), len(names[1]), len(names[2])]\n",
    "print(\"Length of each name:\", lengths)\n",
    "total_chars = lengths[0] + lengths[1] + lengths[2]\n",
    "print(\"Total number of characters:\", total_chars)\n",
    "names.pop(1)\n",
    "print(\"After removing middle name:\", names)\n"
   ]
  },
  {
   "cell_type": "markdown",
   "metadata": {},
   "source": [
    "Exercise 5: Employee Database Manager <br>\n",
    "Topics Covered: Dictionaries with Lists as Values, Dictionary Methods, List Operations, Sorting\n",
    "Task:\n",
    "Write a program that:\n",
    "\n",
    "- Creates a dictionary called employee_data with keys \"names\", \"departments\", and \"salaries\" where values are lists (e.g., {\"names\": [\"Alice\", \"Bob\", \"Carol\"], \"departments\": [\"IT\", \"HR\", \"Finance\"], \"salaries\": [75000, 65000, 80000]}).\n",
    "- Asks the user to input a new employee name and appends it to the \"names\" list.\n",
    "- Convert the dictionary keys to a list and prints it.\n",
    "- Sorts the names list using and prints the updated dictionary.\n",
    "- Uses indexing to print the first employee's name and salary.\n",
    "- Converts .values() to a list and prints the total number of data categories\n",
    "\n",
    "Bonus Challenge: \n",
    "Create a sorted list of department keys using sorted(list(employee_data.keys())) and print it."
   ]
  },
  {
   "cell_type": "code",
   "execution_count": null,
   "metadata": {},
   "outputs": [],
   "source": [
    "employee_data = {\n",
    "    \"names\": [\"Alice\", \"Bob\", \"Carol\"],\n",
    "    \"departments\": [\"IT\", \"HR\", \"Finance\"],\n",
    "    \"salaries\": [75000, 65000, 80000]\n",
    "}\n",
    "new_name = input(\"Enter new employee name: \")\n",
    "employee_data[\"names\"].append(new_name)\n",
    "keys_list = list(employee_data.keys())\n",
    "print(\"Keys in employee_data:\", keys_list)\n",
    "employee_data[\"names\"].sort()\n",
    "print(\"Updated employee data (names sorted):\")\n",
    "print(employee_data)\n",
    "print(\"First employee name:\", employee_data[\"names\"][2])\n",
    "print(\"First employee salary:\", employee_data[\"salaries\"][2])\n",
    "values_list = list(employee_data.values())\n",
    "print(\"Total data categories:\", len(values_list))\n",
    "sorted_keys = sorted(list(employee_data.keys()))\n",
    "print(\"Sorted keys:\", sorted_keys)\n"
   ]
  },
  {
   "cell_type": "markdown",
   "metadata": {},
   "source": [
    "Exercise 6: Student Course Tracker <br>\n",
    "Topics Covered: Dictionaries, Input, Dictionary Methods, String Operations, Conditional Logic\n",
    "Task:\n",
    "Write a program that:\n",
    "\n",
    "- Creates a dictionary called library_books with keys \"title\", \"author\", \"isbn\", and \"available\" with initial values (e.g., {\"title\": \"1984\", \"author\": \"George Orwell\", \"isbn\": \"978-0451524935\", \"available\": True}).\n",
    "- Asks the user to input a new ISBN number and updates the \"isbn\" value in the dictionary.\n",
    "- Uses the get() method to safely retrieve and print the \"author\" value, with a default message if the key doesn't exist.\n",
    "- Toggles the \"available\" status from True to False (or vice versa) using indexing.\n",
    "- Uses the pop() method to remove and print the \"isbn\" key-value pair.\n",
    "- Prints the final dictionary using items() method in a formatted way.\n",
    "\n",
    "Bonus Challenge: \n",
    "Ask the user if they want to add a \"genre\" key, and if yes, prompt for input and add it to the dictionary using setdefault() method.\n",
    "\n",
    "Reference: https://www.w3schools.com/python/python_ref_dictionary.asp"
   ]
  },
  {
   "cell_type": "markdown",
   "metadata": {},
   "source": []
  },
  {
   "cell_type": "markdown",
   "metadata": {},
   "source": []
  },
  {
   "cell_type": "code",
   "execution_count": null,
   "metadata": {},
   "outputs": [],
   "source": [
    "library_books = {\n",
    "    \"title\": \"1984\",\n",
    "    \"author\": \"George Orwell\",\n",
    "    \"isbn\": \"978-0451524935\",\n",
    "    \"available\": True\n",
    "}\n",
    "new_isbn = input(\"Enter new ISBN number: \")\n",
    "library_books[\"isbn\"] = new_isbn\n",
    "author_name = library_books.get(\"author\", \"Author not found\")\n",
    "print(\"Author:\", author_name)\n",
    "library_books[\"available\"] = not library_books[\"available\"]\n",
    "print(\"Updated availability status:\", library_books[\"available\"])\n",
    "\n",
    "removed_isbn = library_books.pop(\"isbn\")\n",
    "print(\"Removed ISBN:\", removed_isbn)\n",
    "\n",
    "print(\"\\nFinal Book Info:\")\n",
    "for key, value in library_books.items():\n",
    "    print(f\"{key.capitalize()}: {value}\")\n",
    "\n",
    "add_genre = input(\"\\nDo you want to add a genre? (yes/no): \").lower()\n",
    "\n",
    "if add_genre == \"yes\":\n",
    "    genre_input = input(\"Enter book genre: \")\n",
    "    library_books.setdefault(\"genre\", genre_input)\n",
    "\n",
    "for key, value in library_books.items():\n",
    "    print(f\"{key.capitalize()}: {value}\")\n"
   ]
  },
  {
   "cell_type": "markdown",
   "metadata": {},
   "source": [
    "Exercise 7: Restaurant Order System <br>\n",
    "Topics Covered: Dictionaries with Lists, List Indexing, Dictionary Methods, Sorting\n",
    "Task:\n",
    "Write a program that:\n",
    "\n",
    "- Creates a dictionary called orders with keys \"items\", \"quantities\", and \"prices\" where values are lists (e.g., {\"items\": [\"Pizza\", \"Burger\", \"Salad\"], \"quantities\": [2, 1, 3], \"prices\": [12.99, 8.50, 6.75]}).\n",
    "- Add a new item to the orders.\n",
    "- Get all keys as a list and prints the first key using indexing.\n",
    "- Accesses and prints the third item and its quantity using indexing\n",
    "- Converts the .values() method to a list and prints it.\n",
    "- Sorts the items list and prints the updated dictionary.\n",
    "\n",
    "Bonus Challenge: \n",
    "Create a sorted list of all keys"
   ]
  },
  {
   "cell_type": "code",
   "execution_count": null,
   "metadata": {},
   "outputs": [],
   "source": [
    "orders = {\n",
    "    \"items\": [\"Pizza\", \"Burger\", \"Salad\"],\n",
    "    \"quantities\": [2, 1, 3],\n",
    "    \"prices\": [12.99, 8.50, 6.75]\n",
    "}\n",
    "orders[\"items\"].append(\"Fries\")\n",
    "orders[\"quantities\"].append(2)\n",
    "orders[\"prices\"].append(3.50)\n",
    "\n",
    "keys_list = list(orders.keys())\n",
    "print(\"All keys:\", keys_list)\n",
    "print(\"First key:\", keys_list[0])\n",
    "\n",
    "print(\"Third item:\", orders[\"items\"][2])\n",
    "print(\"Quantity of third item:\", orders[\"quantities\"][2])\n",
    "\n",
    "values_list = list(orders.values())\n",
    "print(\"All values:\", values_list)\n",
    "\n",
    "orders[\"items\"].sort()\n",
    "print(\"Sorted items list:\")\n",
    "print(\"Updated orders dictionary:\", orders)\n",
    "\n",
    "sorted_keys = sorted(list(orders.keys()))\n",
    "print(\"Sorted list of keys:\", sorted_keys)"
   ]
  }
 ],
 "metadata": {
  "kernelspec": {
   "display_name": "Python 3",
   "language": "python",
   "name": "python3"
  },
  "language_info": {
   "codemirror_mode": {
    "name": "ipython",
    "version": 3
   },
   "file_extension": ".py",
   "mimetype": "text/x-python",
   "name": "python",
   "nbconvert_exporter": "python",
   "pygments_lexer": "ipython3",
   "version": "3.11.9"
  },
  "orig_nbformat": 4
 },
 "nbformat": 4,
 "nbformat_minor": 2
}
